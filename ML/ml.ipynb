{
 "cells": [
  {
   "cell_type": "code",
   "execution_count": null,
   "metadata": {
    "vscode": {
     "languageId": "plaintext"
    }
   },
   "outputs": [],
   "source": [
    "import pandas as pd\n",
    "import numpy as np\n",
    "from datetime import datetime, timedelta\n",
    "\n",
    "df = pd.read_csv('/ML/data.csv\")\n",
    "\n",
    "df = df.drop(columns=['date'])\n",
    "\n",
    "num_days = 10\n",
    "\n",
    "start_date = datetime.strptime('2024-01-28', '%Y-%m-%d')\n",
    "\n",
    "def generate_delay():\n",
    "    rand = np.random.rand()\n",
    "    if rand < 0.65:\n",
    "        return np.random.randint(0, 10)  # 0-9 minutes\n",
    "    elif rand < 0.87:\n",
    "        return 60  # around 1 hour\n",
    "    else:\n",
    "        return np.random.randint(61, 120)  # 61-119 minutes\n",
    "\n",
    "all_days_data = []\n",
    "\n",
    "for day in range(num_days):\n",
    "    current_date = start_date + timedelta(days=day)\n",
    "    day_str = current_date.strftime('%Y-%m-%d')\n",
    "    daily_df = df.copy()\n",
    "    daily_df['date'] = day_str\n",
    "    # Generate delays\n",
    "    daily_df['actual_delay_minute'] = daily_df.apply(lambda row: generate_delay(), axis=1)\n",
    "    # Update cancellation_flag based on delay (e.g., delay > 120 minutes)\n",
    "    daily_df['cancellation_flag'] = np.where(daily_df['actual_delay_minute'] > 120, 1, 0)\n",
    "    all_days_data.append(daily_df)\n",
    "\n",
    "final_df = pd.concat(all_days_data, ignore_index=True)\n",
    "\n",
    "final_df = final_df[['date', 'train_number', 'from_station', 'to_station',\n",
    "                     'scheduled_departure', 'scheduled_arrival',\n",
    "                     'actual_delay_minute', 'cancellation_flag']]\n",
    "\n",
    "final_df.to_csv('3_days_train_delays.csv', index=False)\n",
    "print(\"CSV file '3_days_train_delays.csv' has been generated successfully.\")"
   ]
  },
  {
   "cell_type": "code",
   "execution_count": null,
   "metadata": {
    "vscode": {
     "languageId": "plaintext"
    }
   },
   "outputs": [],
   "source": [
    "dataframe=pd.read_csv('/content/3_days_train_delays.csv')\n",
    "dataframe.head()\n",
    "print(dataframe.dtypes)\n",
    "train_number=int(input(\"enter the train number\"))\n",
    "src=input(\"enter the source\")\n",
    "dest=input(\"enter the dest\")\n",
    "retrieved_data=dataframe[(dataframe[\"train_number\"]==train_number)&(dataframe[\"from_station\"]==src)&(dataframe[\"to_station\"]==dest)]"
   ]
  },
  {
   "cell_type": "code",
   "execution_count": null,
   "metadata": {
    "vscode": {
     "languageId": "plaintext"
    }
   },
   "outputs": [],
   "source": [
    "from statsmodels.tsa.arima.model import ARIMA\n",
    "def forecast_time(past_data):\n",
    "    series = pd.Series(past_data)\n",
    "\n",
    "    model = ARIMA(series, order=(1, 1, 1))\n",
    "    model_fit = model.fit()\n",
    "    forecast = model_fit.forecast(steps=1)\n",
    "    return forecast\n",
    "import numpy as np\n",
    "past_data = np.asarray(retrieved_data[\"actual_delay_minute\"])\n",
    "ans=forecast_time(past_data)\n",
    "print(ans)"
   ]
  },
  {
   "cell_type": "code",
   "execution_count": null,
   "metadata": {
    "vscode": {
     "languageId": "plaintext"
    }
   },
   "outputs": [],
   "source": []
  },
  {
   "cell_type": "code",
   "execution_count": null,
   "metadata": {
    "vscode": {
     "languageId": "plaintext"
    }
   },
   "outputs": [],
   "source": []
  },
  {
   "cell_type": "code",
   "execution_count": null,
   "metadata": {
    "vscode": {
     "languageId": "plaintext"
    }
   },
   "outputs": [],
   "source": []
  }
 ],
 "metadata": {
  "language_info": {
   "name": "python"
  }
 },
 "nbformat": 4,
 "nbformat_minor": 2
}
